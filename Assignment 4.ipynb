{
 "cells": [
  {
   "cell_type": "markdown",
   "id": "68b9c6e7",
   "metadata": {},
   "source": [
    "1. What exactly is []?\n",
    "\n",
    "A.  They are used to define \"list.\" [] is a emply list."
   ]
  },
  {
   "cell_type": "markdown",
   "id": "d0769277",
   "metadata": {},
   "source": [
    "2. In a list of values stored in a variable called spam, how would you assign the value 'hello'  as the third value? (Assume [2, 4, 6, 8, 10] are in spam.)\n",
    "\n",
    "A. spam[3]='hello'\n"
   ]
  },
  {
   "cell_type": "markdown",
   "id": "1df5367f",
   "metadata": {},
   "source": [
    "3. What is the value of spam[int(int('3'*2)/ 11)]\n",
    "spam=[2, 4, 6, 8, 10, 'a', 'b', 'c', 'd']\n",
    "spam[int(int('3'*2)/ 11)]\n",
    "\n",
    "A. 8"
   ]
  },
  {
   "cell_type": "markdown",
   "id": "82960960",
   "metadata": {},
   "source": [
    "4. What is the value of spam[-1]?\n",
    "spam=[2, 4, 6, 8, 10, 'a', 'b', 'c', 'd']\n",
    "\n",
    "A. d"
   ]
  },
  {
   "cell_type": "markdown",
   "id": "62733c6c",
   "metadata": {},
   "source": [
    "5. What is the value of spam[:2]?\n",
    "\n",
    "['2, 4, 6, 8, 10, a', 'b']\n",
    "\n",
    "A. [2, 4]"
   ]
  },
  {
   "cell_type": "markdown",
   "id": "c4d4dc01",
   "metadata": {},
   "source": [
    "6. What is the value of bacon.index('cat')?\n",
    "\n",
    "bacon= [3.14,'cat', 11, 'cat', True]\n",
    "\n",
    "bacon.index('cat')\n",
    "\n",
    "A. 1"
   ]
  },
  {
   "cell_type": "markdown",
   "id": "911c8b9e",
   "metadata": {},
   "source": [
    "7. How does bacon.append(99) change the look of the list value in bacon?\n",
    "\n",
    "\n",
    "bacon= [3.14,'cat', 11, 'cat', True]\n",
    "\n",
    "bacon.append(99)\n",
    "\n",
    "\n",
    "A. [3.14, 'cat', 11, 'cat', True, 99]"
   ]
  },
  {
   "cell_type": "markdown",
   "id": "71dccf7f",
   "metadata": {},
   "source": [
    "8. How does bacon.remove('cat') change the look of the list in bacon?\n",
    "\n",
    "A. bacon= [3.14, 'cat', 11, 'cat', True, 99]\n",
    "\n",
    "A. [3.14, 11, 'cat', True, 99]"
   ]
  },
  {
   "cell_type": "markdown",
   "id": "1adf9e31",
   "metadata": {},
   "source": [
    "9. What are the list concatenation and list replication operators?\n",
    "\n",
    "A. You can concatenate lists to one single list in Python.  In order to merge two strings into a single object, you may use the + operator. The Python copy() method creates a replication operator of an existing list. The copy() method is added to the end of a list object and so it does not accept any parameters. A copy() returns a new list."
   ]
  },
  {
   "cell_type": "markdown",
   "id": "97e06bb3",
   "metadata": {},
   "source": [
    "10.  What is difference between the list methods append() and insert()?\n",
    "\n",
    "A. Difference between append() and insert() is that insert function allows us to add a specific element at a specified index of the list unlike append() where we can add the element only at end of the list."
   ]
  },
  {
   "cell_type": "markdown",
   "id": "5ac3e323",
   "metadata": {},
   "source": [
    "11. What are the two methods for removing items from a list?\n",
    "\n",
    "A. The methods are remove(), pop() and clear(). Remove() method helps to remove the very first given element matching from the list. The pop() method removes an element from the list based on the index given. The clear() method will remove all the elements present in the list."
   ]
  },
  {
   "cell_type": "markdown",
   "id": "f4dd9002",
   "metadata": {},
   "source": [
    "12. Describe how list values and string values are identical.\n",
    "\n",
    "A. The similarity between Lists and Strings is that both are sequences."
   ]
  },
  {
   "cell_type": "markdown",
   "id": "597b0c29",
   "metadata": {},
   "source": [
    "13. What's the difference between tuples and lists?\n",
    "\n",
    "A. The key difference between the tuples and lists is that while the tuples are immutable objects the lists are mutable."
   ]
  },
  {
   "cell_type": "markdown",
   "id": "2e0da309",
   "metadata": {},
   "source": [
    "14. How do you type a tuple value that only contains the integer 42?\n",
    "\n",
    "A. t= (42,)"
   ]
  },
  {
   "cell_type": "markdown",
   "id": "71f39c54",
   "metadata": {},
   "source": [
    "15. How do you get a list value's tuple form? How do you get a tuple value's list form?\n",
    "\n",
    "A. We can use in-built funtion of list() to convert tuple to list and in-built function of tuple to convert tuple to list."
   ]
  },
  {
   "cell_type": "markdown",
   "id": "3d6e2c99",
   "metadata": {},
   "source": [
    "16. Variables that contain list values are not necessarily lists themselves. Instead, what do they contain?\n",
    "\n",
    "A. A list may contain  strings, integer values, or dictionaries."
   ]
  },
  {
   "cell_type": "markdown",
   "id": "cef81c1b",
   "metadata": {},
   "source": [
    "17. How do you distinguish between copy.copy() and copy.deepcopy()?\n",
    "\n",
    "A. A shallow copy will take a copy of the original object and create a new compound object.   A deep copy will take a copy of the original object and will then recursively take copy of the inner objects also. "
   ]
  }
 ],
 "metadata": {
  "kernelspec": {
   "display_name": "Python 3 (ipykernel)",
   "language": "python",
   "name": "python3"
  },
  "language_info": {
   "codemirror_mode": {
    "name": "ipython",
    "version": 3
   },
   "file_extension": ".py",
   "mimetype": "text/x-python",
   "name": "python",
   "nbconvert_exporter": "python",
   "pygments_lexer": "ipython3",
   "version": "3.9.7"
  }
 },
 "nbformat": 4,
 "nbformat_minor": 5
}
